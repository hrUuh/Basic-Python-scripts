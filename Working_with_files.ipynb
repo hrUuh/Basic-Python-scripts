{
  "cells": [
    {
      "cell_type": "markdown",
      "metadata": {
        "id": "view-in-github",
        "colab_type": "text"
      },
      "source": [
        "<a href=\"https://colab.research.google.com/github/hrUuh/Basic-Python-scripts/blob/main/Working_with_files.ipynb\" target=\"_parent\"><img src=\"https://colab.research.google.com/assets/colab-badge.svg\" alt=\"Open In Colab\"/></a>"
      ]
    },
    {
      "cell_type": "markdown",
      "source": [
        "Скачать файл по ссылке"
      ],
      "metadata": {
        "id": "KGFVY0NN8EE0"
      }
    },
    {
      "cell_type": "code",
      "source": [
        "import requests\n",
        "url = 'https://raw.githubusercontent.com/dm-fedorov/python3_intro/master/lesson_10/temper.stat'\n",
        "file = requests.get(url)       #Скачивает файл, получается файловый объект\n",
        "new_text = file.text.strip()   # Переводит файловый объект в строку\n",
        "lst = new_text.split('\\n')     # Из строки в список\n",
        "lst = list(map(float, lst))\n",
        "print(type(new_text))"
      ],
      "metadata": {
        "colab": {
          "base_uri": "https://localhost:8080/"
        },
        "id": "TLBWNso_8IZS",
        "outputId": "560a04a6-8353-4e3d-ef87-41ea5d91196a"
      },
      "execution_count": null,
      "outputs": [
        {
          "output_type": "stream",
          "name": "stdout",
          "text": [
            "<class 'str'>\n"
          ]
        }
      ]
    },
    {
      "cell_type": "markdown",
      "source": [
        "Создать файл в ячейке колаба"
      ],
      "metadata": {
        "id": "TVMbp8Yn9QqG"
      }
    },
    {
      "cell_type": "code",
      "source": [
        "%%writefile example.txt\n",
        "First line\n",
        "Second line\n",
        "Third line"
      ],
      "metadata": {
        "colab": {
          "base_uri": "https://localhost:8080/"
        },
        "id": "Pf478b4k9dq9",
        "outputId": "35c4e26a-67c3-47ab-d017-ccfafe0dce02"
      },
      "execution_count": null,
      "outputs": [
        {
          "output_type": "stream",
          "name": "stdout",
          "text": [
            "Writing example.txt\n"
          ]
        }
      ]
    },
    {
      "cell_type": "markdown",
      "source": [
        "Открыть файл на чтение"
      ],
      "metadata": {
        "id": "EYcPYnXr94v2"
      }
    },
    {
      "cell_type": "code",
      "source": [
        "file = open('example.txt', 'r')   # Создает файловый объект\n",
        "contents = file.read()        # Читает его и записывает в строку\n",
        "print(contents)\n",
        "print(type(contents))\n",
        "contents = contents.splitlines()  # Переводит строковый объект в список, где элементом списка является каждая строка текста\n",
        "print(contents)\n",
        "print(type(contents))\n",
        "file.close()\n",
        "\n"
      ],
      "metadata": {
        "colab": {
          "base_uri": "https://localhost:8080/"
        },
        "id": "4uSXqK_k90Mx",
        "outputId": "937605a1-4d7d-4cc3-c3fa-10d9ab98ad79"
      },
      "execution_count": null,
      "outputs": [
        {
          "output_type": "stream",
          "name": "stdout",
          "text": [
            "First line\n",
            "Second line\n",
            "Third line\n",
            "\n",
            "<class 'str'>\n",
            "['First line', 'Second line', 'Third line']\n",
            "<class 'list'>\n"
          ]
        }
      ]
    },
    {
      "cell_type": "code",
      "source": [
        "with open('example.txt') as file:       # Открывает файл через менеджер контекста\n",
        "  contents = file.read()                 # Записывает файл в строку"
      ],
      "metadata": {
        "id": "gZNQ_iDX-2XF"
      },
      "execution_count": null,
      "outputs": []
    },
    {
      "cell_type": "markdown",
      "source": [],
      "metadata": {
        "id": "n2CoHpka8B_1"
      }
    },
    {
      "cell_type": "markdown",
      "source": [
        "Читаем файл построчно. Из файла в список, где элементом является строка."
      ],
      "metadata": {
        "id": "prgL-4oH_aMf"
      }
    },
    {
      "cell_type": "code",
      "source": [
        "with open('example.txt') as file:      # Открывает как файловый объект\n",
        "  lines = file.readlines()             #  Записывает каждую строчку как элемент массива\n",
        "  print(lines, type(lines))"
      ],
      "metadata": {
        "colab": {
          "base_uri": "https://localhost:8080/"
        },
        "id": "l4VAT6m3_noU",
        "outputId": "5b339f20-6b87-46fa-8e6e-8856e94108ce"
      },
      "execution_count": null,
      "outputs": [
        {
          "output_type": "stream",
          "name": "stdout",
          "text": [
            "['First\\n', 'Second\\n', 'Third\\n'] <class 'list'>\n"
          ]
        }
      ]
    },
    {
      "cell_type": "code",
      "source": [
        "with open('example.txt') as file:       # Открывает файл через менеджер контекста\n",
        "  contents = file.read()              # Записывает содержимое файла в строку\n",
        "  data = contents.strip().split('\\n')     # Делает массив, элементом, котрого является строка (как splitlines()), но здесь можно выбрать разделитель\n",
        "print(data)\n",
        "print('Type of contents: ', type(contents), '\\n', 'Type of data:', type(data))"
      ],
      "metadata": {
        "colab": {
          "base_uri": "https://localhost:8080/"
        },
        "id": "6vqPmZ0YoLEs",
        "outputId": "8b865e06-517d-4e87-dba9-b0d531d987f6"
      },
      "execution_count": null,
      "outputs": [
        {
          "output_type": "stream",
          "name": "stdout",
          "text": [
            "['First line', 'Second line', 'Third line']\n"
          ]
        }
      ]
    },
    {
      "cell_type": "markdown",
      "source": [
        "Использование фалового объекта напрямую, не сохраняя его в строку или в список"
      ],
      "metadata": {
        "id": "OzYyACmdAXsm"
      }
    },
    {
      "cell_type": "code",
      "source": [
        "with open('example.txt') as file:\n",
        "  for line in file:\n",
        "    print(len(line))"
      ],
      "metadata": {
        "colab": {
          "base_uri": "https://localhost:8080/"
        },
        "id": "rt8a5W9UAh0b",
        "outputId": "5a832424-ac30-4269-e71b-0f8009bfe483"
      },
      "execution_count": null,
      "outputs": [
        {
          "output_type": "stream",
          "name": "stdout",
          "text": [
            "6\n",
            "7\n",
            "6\n"
          ]
        }
      ]
    },
    {
      "cell_type": "markdown",
      "source": [
        "Запись в файл"
      ],
      "metadata": {
        "id": "wSxw_HeqA60W"
      }
    },
    {
      "cell_type": "code",
      "source": [
        "with open('example.txt', 'w') as ouf:    # Если использовать 'a' то информация будет дозаписываться\n",
        "  ouf.write('Hello!\\n')\n",
        "!cat example.txt"
      ],
      "metadata": {
        "colab": {
          "base_uri": "https://localhost:8080/"
        },
        "id": "5ooSxFcWA9ou",
        "outputId": "76daf7f3-2eca-46ed-a48a-8553aaa66a49"
      },
      "execution_count": null,
      "outputs": [
        {
          "output_type": "stream",
          "name": "stdout",
          "text": [
            "Hello!\n"
          ]
        }
      ]
    },
    {
      "cell_type": "code",
      "source": [
        "with open('example.txt','w') as outfile:\n",
        "  outfile.writelines(['hi', 'see you later'])\n",
        "\n",
        "!cat example.txt"
      ],
      "metadata": {
        "colab": {
          "base_uri": "https://localhost:8080/"
        },
        "id": "LasyGeW4BiaG",
        "outputId": "cfb62900-6329-484b-c996-08e72309eb5e"
      },
      "execution_count": null,
      "outputs": [
        {
          "output_type": "stream",
          "name": "stdout",
          "text": [
            "hisee you later"
          ]
        }
      ]
    },
    {
      "cell_type": "markdown",
      "source": [
        "Записать в файл, преобразовав список в строку"
      ],
      "metadata": {
        "id": "fpRR_WtoDf5h"
      }
    },
    {
      "cell_type": "code",
      "source": [
        "with open('new.txt', 'w') as new:        # открываем файл на запись\n",
        "  list = ['Hello', 'Tere', 'Privet']     # берем список из строк, который хотим запихнуть в файл\n",
        "  text = ('\\n').join(list)            # собираем список в строковый объект с разделителем \\n\n",
        "  new.write(text)              # записываем строковый объект в файл\n",
        "!cat new.txt"
      ],
      "metadata": {
        "colab": {
          "base_uri": "https://localhost:8080/"
        },
        "id": "3bsn2o9GDvYi",
        "outputId": "8e13ec16-3b9f-4a53-c007-c1123e1a4edb"
      },
      "execution_count": null,
      "outputs": [
        {
          "output_type": "stream",
          "name": "stdout",
          "text": [
            "Hello\n",
            "Tere\n",
            "Privet"
          ]
        }
      ]
    }
  ],
  "metadata": {
    "colab": {
      "provenance": [],
      "authorship_tag": "ABX9TyOgI46A0kBXxt0F5ml4s6j0",
      "include_colab_link": true
    },
    "kernelspec": {
      "display_name": "Python 3",
      "name": "python3"
    },
    "language_info": {
      "name": "python"
    }
  },
  "nbformat": 4,
  "nbformat_minor": 0
}